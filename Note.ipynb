{
 "cells": [
  {
   "cell_type": "markdown",
   "id": "b2d3d8b5",
   "metadata": {},
   "source": [
    "# ML models implementation"
   ]
  },
  {
   "cell_type": "markdown",
   "id": "7f4d1337",
   "metadata": {},
   "source": [
    "## 🧠 BASIC MACHINE LEARNING ALGORITHMS FOR DATA SCIENCE"
   ]
  },
  {
   "cell_type": "markdown",
   "id": "ed05411c",
   "metadata": {},
   "source": [
    "\n",
    "### 🔹 **1. Supervised Learning**\n",
    "\n",
    "#### 📊 Classification\n",
    "1. **Logistic Regression**\n",
    "   - Linear decision boundary, outputs probabilities.\n",
    "   - Regularization (L1, L2), sigmoid function.\n",
    "\n",
    "2. **Decision Trees**\n",
    "   - Interpretability, prone to overfitting, splits based on Gini/Entropy.\n",
    "\n",
    "3. **Random Forest**\n",
    "   - Ensemble of trees (bagging), reduces variance, improves generalization.\n",
    "\n",
    "4. **Gradient Boosting (e.g., XGBoost, LightGBM)**\n",
    "   - Sequentially adds models to reduce error.\n",
    "   - Highly accurate, handles missing data, feature importance.\n",
    "\n",
    "5. **Support Vector Machines (SVM)**\n",
    "   - Finds optimal hyperplane, uses kernels for non-linear data.\n",
    "   - Parameters: `C`, `gamma`, kernel type.\n",
    "\n",
    "6. **K-Nearest Neighbors (KNN)**\n",
    "   - No training, lazy learning.\n",
    "   - Distance-based classification (Euclidean, Manhattan).\n",
    "\n",
    "7. **Naive Bayes**\n",
    "   - Probabilistic classifier based on Bayes’ theorem.\n",
    "   - Assumes feature independence.\n",
    "\n",
    "---\n",
    "\n",
    "#### 📈 Regression\n",
    "1. **Linear Regression**\n",
    "   - Models linear relationship.\n",
    "   - Evaluate with R², MSE, residual plots.\n",
    "\n",
    "2. **Ridge & Lasso Regression**\n",
    "   - Regularization techniques:\n",
    "     - Ridge (L2): Shrinks coefficients.\n",
    "     - Lasso (L1): Shrinks and can zero out features (feature selection).\n",
    "\n",
    "3. **Polynomial Regression**\n",
    "   - Extends linear regression for curved relationships.\n",
    "\n",
    "4. **ElasticNet**\n",
    "   - Mix of L1 and L2 regularization.\n",
    "\n",
    "---\n",
    "\n",
    "### 🔹 **2. Unsupervised Learning**\n",
    "\n",
    "#### 🧩 Clustering\n",
    "1. **K-Means Clustering**\n",
    "   - Partitions data into k clusters.\n",
    "   - Distance-based, sensitive to initialization.\n",
    "\n",
    "2. **Hierarchical Clustering**\n",
    "   - Dendrograms, doesn’t require specifying k.\n",
    "\n",
    "3. **DBSCAN**\n",
    "   - Density-based clustering, handles noise and clusters of varying shapes.\n",
    "\n",
    "---\n",
    "\n",
    "#### 📉 Dimensionality Reduction\n",
    "1. **PCA (Principal Component Analysis)**\n",
    "   - Projects data into lower dimensions while preserving variance.\n",
    "\n",
    "2. **t-SNE / UMAP**\n",
    "   - Good for visualization of high-dimensional data.\n",
    "\n",
    "3. **Truncated SVD**\n",
    "   - For sparse matrices, used with text data (e.g., TF-IDF).\n",
    "\n",
    "---\n",
    "\n",
    "### 🔹 **3. Time Series & Sequence Modeling**\n",
    "1. **ARIMA / SARIMA**\n",
    "   - Classical forecasting methods (trend, seasonality).\n",
    "\n",
    "2. **Exponential Smoothing**\n",
    "   - Weighted average of past observations.\n",
    "\n",
    "3. **Recurrent Neural Networks (RNNs), LSTM, GRU**\n",
    "   - Deep learning models for sequences (if deep learning is expected).\n",
    "\n",
    "---\n",
    "\n",
    "### 🔹 **4. Other Important Techniques**\n",
    "- **Cross Validation** (k-fold, stratified)\n",
    "- **GridSearchCV / RandomizedSearchCV** for hyperparameter tuning\n",
    "- **Feature Selection** (Univariate, Recursive Feature Elimination)\n",
    "- **Handling Imbalanced Data** (SMOTE, class weights)\n",
    "- **Evaluation Metrics:**\n",
    "  - Classification: accuracy, precision, recall, F1, ROC-AUC\n",
    "  - Regression: MSE, RMSE, MAE, R²\n",
    "\n",
    "---\n",
    "\n",
    "### 🧪 How to Prepare for Each\n",
    "| Algorithm                | What to Know | Practice |\n",
    "|-------------------------|--------------|----------|\n",
    "| Logistic Regression     | Math, sigmoid, loss function | `sklearn.linear_model.LogisticRegression` |\n",
    "| Random Forest           | Ensemble concept, overfitting control | `RandomForestClassifier`, plot feature importances |\n",
    "| Gradient Boosting       | Sequential learning, shrinkage | `XGBoost`, `LightGBM` |\n",
    "| SVM                     | Margin, kernels | `SVC` with different kernels |\n",
    "| KNN                     | Distance metrics | `KNeighborsClassifier` |\n",
    "| Linear Regression       | Cost function, assumptions | `LinearRegression`, plot residuals |\n",
    "| PCA                     | Eigenvectors, explained variance | `PCA` from `sklearn.decomposition` |\n",
    "| K-Means                 | Elbow method, silhouette score | `KMeans`, cluster plots |\n",
    "\n",
    "---"
   ]
  },
  {
   "cell_type": "markdown",
   "id": "dd4bb2b4",
   "metadata": {},
   "source": [
    "## **Python libraries** "
   ]
  },
  {
   "cell_type": "markdown",
   "id": "50956c7c",
   "metadata": {},
   "source": [
    "### ✅ **Core Python Libraries You Should Know**\n",
    "\n",
    "### 🔢 **Numerical & Matrix Operations**\n",
    "- **`NumPy`**\n",
    "  - Array creation, indexing/slicing, broadcasting\n",
    "  - Matrix multiplication (`dot`, `matmul`), reshaping, linear algebra\n",
    "\n",
    "- **`SciPy`**\n",
    "  - `scipy.stats` for statistical testing (e.g., t-tests, p-values)\n",
    "  - Optimization and numerical integration\n",
    "\n",
    "---\n",
    "\n",
    "### 🐼 **Data Wrangling & EDA**\n",
    "- **`pandas`**\n",
    "  - DataFrames, Series, filtering, merging, `groupby`, missing value handling\n",
    "  - `pivot`, `melt`, `.apply()`, `.map()`, `.value_counts()`\n",
    "\n",
    "- **`matplotlib` & `seaborn`**\n",
    "  - Plotting histograms, barplots, boxplots, pairplots, heatmaps\n",
    "  - EDA visualizations (correlations, distributions)\n",
    "\n",
    "---\n",
    "\n",
    "### 🧠 **Machine Learning & Model Evaluation**\n",
    "- **`scikit-learn`**\n",
    "  - Models: LogisticRegression, RandomForest, SVC, KMeans, PCA\n",
    "  - Pipelines, `train_test_split`, `cross_val_score`, `GridSearchCV`\n",
    "  - Preprocessing: `StandardScaler`, `MinMaxScaler`, `OneHotEncoder`\n",
    "  - Metrics: `accuracy_score`, `confusion_matrix`, `roc_auc_score`\n",
    "\n",
    "- **`xgboost`**\n",
    "  - Gradient boosting classifier and regressor\n",
    "  - Feature importance, `DMatrix` optimization\n",
    "\n",
    "- **`lightgbm`** *(optional, but nice to know)*\n",
    "  - Another gradient boosting framework (faster/lighter than XGBoost)\n",
    "\n",
    "---\n",
    "\n",
    "### 📊 **Text Processing & Feature Engineering**\n",
    "- **`sklearn.feature_extraction.text.TfidfVectorizer`**\n",
    "  - Convert raw text to TF-IDF feature matrix\n",
    "- **`nltk` or `spaCy`** *(if text data is involved)*\n",
    "  - Tokenization, stopwords, stemming/lemmatization\n",
    "\n",
    "---\n",
    "\n",
    "### 🧮 **Deep Learning (maybe optional)**\n",
    "- **`tensorflow` / `keras`** or **`torch`**\n",
    "  - If they ask about ResNet, activation functions, vanishing gradients\n",
    "  - Know basic model building syntax if deep learning comes up\n",
    "\n",
    "---\n",
    "\n",
    "### 🧪 **Other Useful Utilities**\n",
    "- **`statsmodels`**\n",
    "  - For statistical modeling (e.g., linear regression, p-values)\n",
    "\n",
    "- **`sqlalchemy`** or **`sqlite3`**\n",
    "  - If they bring up SQL with Python integration\n",
    "\n",
    "- **`langchain`** *(mentioned in the job description)*\n",
    "  - May come up if they ask about LLMs or generative AI pipelines (you just need to know what it does)"
   ]
  },
  {
   "cell_type": "markdown",
   "id": "4652313c",
   "metadata": {},
   "source": [
    "---\n",
    "\n",
    "### 🔍 Your Must-Know Set for Interview\n",
    "If you want to keep it tight and efficient, prioritize:\n",
    "```bash\n",
    "    numpy\n",
    "    pandas\n",
    "    scipy\n",
    "    matplotlib\n",
    "    seaborn\n",
    "    scikit-learn\n",
    "    xgboost\n",
    "    statsmodels\n",
    "```\n",
    "\n",
    "---"
   ]
  },
  {
   "cell_type": "markdown",
   "id": "da588a35",
   "metadata": {},
   "source": [
    "# Library Practice"
   ]
  },
  {
   "cell_type": "markdown",
   "id": "4251fc59",
   "metadata": {},
   "source": [
    "# Numpy"
   ]
  },
  {
   "cell_type": "markdown",
   "id": "9f3d800f",
   "metadata": {},
   "source": [
    "### Creating NumpArrays"
   ]
  },
  {
   "cell_type": "code",
   "execution_count": null,
   "id": "8cc0f35b",
   "metadata": {},
   "outputs": [
    {
     "name": "stdout",
     "output_type": "stream",
     "text": [
      "Array of 1s (a):\n",
      " [[1. 1. 1. 1.]\n",
      " [1. 1. 1. 1.]\n",
      " [1. 1. 1. 1.]]\n",
      "Array of 0s (b):\n",
      " [[0. 0.]\n",
      " [0. 0.]]\n",
      "Array of random ints:\n",
      " [[ 8  9 14 19]\n",
      " [10  3 14  6]\n",
      " [14  6  6  1]]\n"
     ]
    }
   ],
   "source": [
    "# This library is for fast matrix operations\n",
    "import numpy as np \n",
    "\n",
    "a = np.ones([3,4])\n",
    "b = np.zeros([2,2])\n",
    "\n",
    "print('Array of 1s (a):\\n', a)\n",
    "print('Array of 0s (b):\\n', b)\n",
    "\n",
    "a = np.random.randint(1,20,[3,4]) # range(1,20) for an array of 3x4 random ints\n",
    "print('Array of random ints:\\n', a)\n"
   ]
  },
  {
   "cell_type": "markdown",
   "id": "74c90a70",
   "metadata": {},
   "source": [
    "### Matrix reshaping and manipulations"
   ]
  },
  {
   "cell_type": "code",
   "execution_count": null,
   "id": "81b67334",
   "metadata": {},
   "outputs": [
    {
     "name": "stdout",
     "output_type": "stream",
     "text": [
      "a.shape: (3,)\n",
      "b.shape: (2, 2)\n",
      "b array:\n",
      " [[2 3]\n",
      " [1 6]]\n",
      "b.reshaped array:\n",
      " [[2 3 1 6]]\n",
      "b.reshaped array shape: (1, 4)\n"
     ]
    }
   ],
   "source": [
    "a = np.array([1,2,3]) # 1-d with 3 elments\n",
    "b = np.array([[2,3],[1,6]]) #matrix shape (2x2) 2 row x 2 columns \n",
    "\n",
    "print('a.shape:', a.shape)\n",
    "print('b.shape:', b.shape)\n",
    "\n",
    "print('b array:\\n', b)\n",
    "c = b.reshape(1,4) # reshaped it to [2,3,1,6] 1 row x 4 columns\n",
    "print('b.reshaped array:\\n', c)\n",
    "print('b.reshaped array shape:', c.shape)"
   ]
  },
  {
   "cell_type": "markdown",
   "id": "501c909b",
   "metadata": {},
   "source": [
    "### Stats of arrays "
   ]
  },
  {
   "cell_type": "code",
   "execution_count": 5,
   "id": "4c9b0f5d",
   "metadata": {},
   "outputs": [
    {
     "name": "stdout",
     "output_type": "stream",
     "text": [
      "a dot product: 14\n",
      "mean of array a: 2.0\n",
      "Std of array a: 0.816496580927726\n"
     ]
    }
   ],
   "source": [
    "d = np.dot(a,a)\n",
    "print('a dot product:', d)\n",
    "\n",
    "d = np.mean(a)\n",
    "print('mean of array a:', d)\n",
    "\n",
    "d = np.std(a)\n",
    "print('Std of array a:', d)"
   ]
  },
  {
   "cell_type": "markdown",
   "id": "5f1909e5",
   "metadata": {},
   "source": [
    "### Matrix Muliplication \n",
    "Remember in matrix muliplication Colunms of Matrix 1 needs to equal to Rows of Matrix 2"
   ]
  },
  {
   "cell_type": "code",
   "execution_count": 9,
   "id": "f0c5c8ad",
   "metadata": {},
   "outputs": [
    {
     "name": "stdout",
     "output_type": "stream",
     "text": [
      "(2, 3)\n",
      "(3, 2)\n",
      "[[31 22]\n",
      " [31 29]]\n"
     ]
    }
   ],
   "source": [
    "# d = a * b # will not work due to array a = 3 columns and b = 2 rows \n",
    "a = np.array([[2,3,4],[5,3,2]])\n",
    "b = np.array([[2,3],[5,4],[3,1]])\n",
    "print(a.shape)\n",
    "print(b.shape)\n",
    "\n",
    "matrix1r, matrix1c = a.shape\n",
    "matrix2r, matrix2c = b.shape\n",
    "\n",
    "if matrix1c == matrix2r: \n",
    "    # c = np.matmul(a,b)\n",
    "    c = a @ b # same result as np.dot and np.matmul, but this better for all dimensions not just 2-d\n",
    "    print(c)\n",
    "else: \n",
    "    print('multi incompatiable')"
   ]
  },
  {
   "cell_type": "markdown",
   "id": "48b91f23",
   "metadata": {},
   "source": [
    "# Pandas"
   ]
  },
  {
   "cell_type": "markdown",
   "id": "ba23c053",
   "metadata": {},
   "source": [
    "### Creating a Panda DataFrame"
   ]
  },
  {
   "cell_type": "code",
   "execution_count": 16,
   "id": "5ea77e77",
   "metadata": {},
   "outputs": [
    {
     "name": "stdout",
     "output_type": "stream",
     "text": [
      "      Name  Age  rating\n",
      "0  allison   12     3.9\n",
      "1    timmy   13    60.0\n",
      "2  georgie   53     2.0\n"
     ]
    }
   ],
   "source": [
    "import pandas as pd\n",
    "\n",
    "df = pd.DataFrame({\n",
    "    'Name' : ['allison', 'timmy', 'georgie'],\n",
    "    'Age' : [12,13,53], \n",
    "    'rating' : [3.9,60,2]\n",
    "})\n",
    "\n",
    "print(df.head())\n",
    "\n"
   ]
  },
  {
   "cell_type": "code",
   "execution_count": 17,
   "id": "cf567087",
   "metadata": {},
   "outputs": [
    {
     "data": {
      "application/vnd.microsoft.datawrangler.viewer.v0+json": {
       "columns": [
        {
         "name": "index",
         "rawType": "object",
         "type": "string"
        },
        {
         "name": "Age",
         "rawType": "float64",
         "type": "float"
        },
        {
         "name": "rating",
         "rawType": "float64",
         "type": "float"
        }
       ],
       "conversionMethod": "pd.DataFrame",
       "ref": "55d60cd8-c79d-46b1-b411-45c4462f8dd7",
       "rows": [
        [
         "count",
         "3.0",
         "3.0"
        ],
        [
         "mean",
         "26.0",
         "21.96666666666667"
        ],
        [
         "std",
         "23.388031127053",
         "32.951530060580396"
        ],
        [
         "min",
         "12.0",
         "2.0"
        ],
        [
         "25%",
         "12.5",
         "2.95"
        ],
        [
         "50%",
         "13.0",
         "3.9"
        ],
        [
         "75%",
         "33.0",
         "31.95"
        ],
        [
         "max",
         "53.0",
         "60.0"
        ]
       ],
       "shape": {
        "columns": 2,
        "rows": 8
       }
      },
      "text/html": [
       "<div>\n",
       "<style scoped>\n",
       "    .dataframe tbody tr th:only-of-type {\n",
       "        vertical-align: middle;\n",
       "    }\n",
       "\n",
       "    .dataframe tbody tr th {\n",
       "        vertical-align: top;\n",
       "    }\n",
       "\n",
       "    .dataframe thead th {\n",
       "        text-align: right;\n",
       "    }\n",
       "</style>\n",
       "<table border=\"1\" class=\"dataframe\">\n",
       "  <thead>\n",
       "    <tr style=\"text-align: right;\">\n",
       "      <th></th>\n",
       "      <th>Age</th>\n",
       "      <th>rating</th>\n",
       "    </tr>\n",
       "  </thead>\n",
       "  <tbody>\n",
       "    <tr>\n",
       "      <th>count</th>\n",
       "      <td>3.000000</td>\n",
       "      <td>3.000000</td>\n",
       "    </tr>\n",
       "    <tr>\n",
       "      <th>mean</th>\n",
       "      <td>26.000000</td>\n",
       "      <td>21.966667</td>\n",
       "    </tr>\n",
       "    <tr>\n",
       "      <th>std</th>\n",
       "      <td>23.388031</td>\n",
       "      <td>32.951530</td>\n",
       "    </tr>\n",
       "    <tr>\n",
       "      <th>min</th>\n",
       "      <td>12.000000</td>\n",
       "      <td>2.000000</td>\n",
       "    </tr>\n",
       "    <tr>\n",
       "      <th>25%</th>\n",
       "      <td>12.500000</td>\n",
       "      <td>2.950000</td>\n",
       "    </tr>\n",
       "    <tr>\n",
       "      <th>50%</th>\n",
       "      <td>13.000000</td>\n",
       "      <td>3.900000</td>\n",
       "    </tr>\n",
       "    <tr>\n",
       "      <th>75%</th>\n",
       "      <td>33.000000</td>\n",
       "      <td>31.950000</td>\n",
       "    </tr>\n",
       "    <tr>\n",
       "      <th>max</th>\n",
       "      <td>53.000000</td>\n",
       "      <td>60.000000</td>\n",
       "    </tr>\n",
       "  </tbody>\n",
       "</table>\n",
       "</div>"
      ],
      "text/plain": [
       "             Age     rating\n",
       "count   3.000000   3.000000\n",
       "mean   26.000000  21.966667\n",
       "std    23.388031  32.951530\n",
       "min    12.000000   2.000000\n",
       "25%    12.500000   2.950000\n",
       "50%    13.000000   3.900000\n",
       "75%    33.000000  31.950000\n",
       "max    53.000000  60.000000"
      ]
     },
     "execution_count": 17,
     "metadata": {},
     "output_type": "execute_result"
    }
   ],
   "source": [
    "df.describe() #Give stats on the numerical columns of the dataset"
   ]
  },
  {
   "cell_type": "code",
   "execution_count": null,
   "id": "88cbf430",
   "metadata": {},
   "outputs": [
    {
     "data": {
      "text/plain": [
       "True"
      ]
     },
     "execution_count": 30,
     "metadata": {},
     "output_type": "execute_result"
    }
   ],
   "source": [
    "df[df['Age'] > 20] # This retreves all rows that are older than 20\n",
    "# df['Age'] > 20 this returns the index where this statement is true"
   ]
  },
  {
   "cell_type": "markdown",
   "id": "948a4602",
   "metadata": {},
   "source": [
    "# Scipy\n",
    "Scientific computing, stats, linear algebra."
   ]
  },
  {
   "cell_type": "markdown",
   "id": "1ada3315",
   "metadata": {},
   "source": [
    "### T-test and P-test\n",
    "This test is used for A/B testing for which model performs better and also feature selection. How important certain features are"
   ]
  },
  {
   "cell_type": "markdown",
   "id": "6399d42d",
   "metadata": {},
   "source": [
    "### We’re comparing test scores between two groups: Group A (who took a special training) and Group B (who didn’t).\n",
    "**We want to know:**\n",
    "“Is there a statistically significant difference in scores between the two groups?”\n",
    "\n"
   ]
  },
  {
   "cell_type": "code",
   "execution_count": 38,
   "id": "684509e1",
   "metadata": {},
   "outputs": [
    {
     "name": "stdout",
     "output_type": "stream",
     "text": [
      "T-statistic: 5.811\n",
      "P-value: 0.0004\n"
     ]
    }
   ],
   "source": [
    "from scipy import stats\n",
    "\n",
    "data = pd.DataFrame({\n",
    "    'score': [88, 92, 85, 91, 89, 72, 78, 69, 80, 77],\n",
    "    'group': ['A', 'A', 'A', 'A', 'A', 'B', 'B', 'B', 'B', 'B']\n",
    "})\n",
    "\n",
    "group_A = data[data['group'] == 'A']['score']\n",
    "group_B = data[data['group'] == 'B']['score']\n",
    "\n",
    "# Perform independent t-test\n",
    "t_stat, p_value = stats.ttest_ind(group_A, group_B)\n",
    "\n",
    "print(f\"T-statistic: {t_stat:.3f}\")\n",
    "print(f\"P-value: {p_value:.4f}\")"
   ]
  },
  {
   "cell_type": "markdown",
   "id": "cc4d9549",
   "metadata": {},
   "source": [
    "\n",
    "\n",
    "### 📘 What’s happening?\n",
    "\n",
    "- `ttest_ind`: compares **means** of two independent groups.\n",
    "- `t_stat`: shows how different the groups are.\n",
    "- `p_value`: tells us if the difference is **statistically significant**.\n",
    "\n",
    "\n",
    "    - ### Based on the results T-stat shows there is a big difference between the 2 groups\n",
    "    - ### P-value is very low meaning we can ignore the null hypothesis, meaning there's a very strong statistical difference between the two groups\n",
    "\n",
    "---"
   ]
  },
  {
   "cell_type": "markdown",
   "id": "60c0bd90",
   "metadata": {},
   "source": [
    "### Pearson Correlation test measures the strength and direction of the linear relationship between two continuous variables."
   ]
  },
  {
   "cell_type": "code",
   "execution_count": 67,
   "id": "d805a127",
   "metadata": {},
   "outputs": [
    {
     "name": "stdout",
     "output_type": "stream",
     "text": [
      "Pearson r: 0.6757341092113641\n",
      "p-value: 6.692470646864281e-34\n"
     ]
    }
   ],
   "source": [
    "import pandas as pd\n",
    "import seaborn as sns #for loading dataset\n",
    "from scipy.stats import pearsonr\n",
    "\n",
    "# Load sample dataset\n",
    "df = sns.load_dataset(\"tips\")\n",
    "\n",
    "# Choose numeric columns\n",
    "x = df['total_bill']\n",
    "y = df['tip']\n",
    "\n",
    "# Pearson correlation test\n",
    "r_value, p_value = pearsonr(x, y)\n",
    "\n",
    "print(\"Pearson r:\", r_value)\n",
    "print(\"p-value:\", p_value)\n"
   ]
  },
  {
   "cell_type": "markdown",
   "id": "c7562d1c",
   "metadata": {},
   "source": [
    "\n",
    "\n",
    "### 🧠 Interpretation:\n",
    "\n",
    "| Metric        | Meaning |\n",
    "|---------------|---------|\n",
    "| **r = 0.676** | This is a **moderately strong positive** linear relationship. As `total_bill` goes up, `tip` tends to go up. |\n",
    "| **p-value ≈ 0** | This is **extremely significant**. The chance that this correlation is random is basically zero. |\n"
   ]
  },
  {
   "cell_type": "markdown",
   "id": "c3e1c184",
   "metadata": {},
   "source": [
    "### We start by comparing each feature to the target using Pearson correlation. Features with **low r-values** and **high p-values** are removed, as they likely have no useful linear relationship with the target. This method only captures **linear dependencies**."
   ]
  },
  {
   "cell_type": "markdown",
   "id": "b7215f59",
   "metadata": {},
   "source": [
    "# 📊 Matplotlib and Seaborn(SNS)\n",
    "- Fundamental plotting library. Seaborn is a higher level library\n",
    "\n"
   ]
  },
  {
   "cell_type": "code",
   "execution_count": null,
   "id": "724a08e2",
   "metadata": {},
   "outputs": [
    {
     "data": {
      "application/vnd.microsoft.datawrangler.viewer.v0+json": {
       "columns": [
        {
         "name": "index",
         "rawType": "int64",
         "type": "integer"
        },
        {
         "name": "total_bill",
         "rawType": "float64",
         "type": "float"
        },
        {
         "name": "tip",
         "rawType": "float64",
         "type": "float"
        },
        {
         "name": "sex",
         "rawType": "category",
         "type": "unknown"
        },
        {
         "name": "smoker",
         "rawType": "category",
         "type": "unknown"
        },
        {
         "name": "day",
         "rawType": "category",
         "type": "unknown"
        },
        {
         "name": "time",
         "rawType": "category",
         "type": "unknown"
        },
        {
         "name": "size",
         "rawType": "int64",
         "type": "integer"
        }
       ],
       "conversionMethod": "pd.DataFrame",
       "ref": "30269ea3-35bb-4982-a8bf-03e9677d93cb",
       "rows": [
        [
         "0",
         "16.99",
         "1.01",
         "Female",
         "No",
         "Sun",
         "Dinner",
         "2"
        ],
        [
         "1",
         "10.34",
         "1.66",
         "Male",
         "No",
         "Sun",
         "Dinner",
         "3"
        ],
        [
         "2",
         "21.01",
         "3.5",
         "Male",
         "No",
         "Sun",
         "Dinner",
         "3"
        ],
        [
         "3",
         "23.68",
         "3.31",
         "Male",
         "No",
         "Sun",
         "Dinner",
         "2"
        ],
        [
         "4",
         "24.59",
         "3.61",
         "Female",
         "No",
         "Sun",
         "Dinner",
         "4"
        ]
       ],
       "shape": {
        "columns": 7,
        "rows": 5
       }
      },
      "text/html": [
       "<div>\n",
       "<style scoped>\n",
       "    .dataframe tbody tr th:only-of-type {\n",
       "        vertical-align: middle;\n",
       "    }\n",
       "\n",
       "    .dataframe tbody tr th {\n",
       "        vertical-align: top;\n",
       "    }\n",
       "\n",
       "    .dataframe thead th {\n",
       "        text-align: right;\n",
       "    }\n",
       "</style>\n",
       "<table border=\"1\" class=\"dataframe\">\n",
       "  <thead>\n",
       "    <tr style=\"text-align: right;\">\n",
       "      <th></th>\n",
       "      <th>total_bill</th>\n",
       "      <th>tip</th>\n",
       "      <th>sex</th>\n",
       "      <th>smoker</th>\n",
       "      <th>day</th>\n",
       "      <th>time</th>\n",
       "      <th>size</th>\n",
       "    </tr>\n",
       "  </thead>\n",
       "  <tbody>\n",
       "    <tr>\n",
       "      <th>0</th>\n",
       "      <td>16.99</td>\n",
       "      <td>1.01</td>\n",
       "      <td>Female</td>\n",
       "      <td>No</td>\n",
       "      <td>Sun</td>\n",
       "      <td>Dinner</td>\n",
       "      <td>2</td>\n",
       "    </tr>\n",
       "    <tr>\n",
       "      <th>1</th>\n",
       "      <td>10.34</td>\n",
       "      <td>1.66</td>\n",
       "      <td>Male</td>\n",
       "      <td>No</td>\n",
       "      <td>Sun</td>\n",
       "      <td>Dinner</td>\n",
       "      <td>3</td>\n",
       "    </tr>\n",
       "    <tr>\n",
       "      <th>2</th>\n",
       "      <td>21.01</td>\n",
       "      <td>3.50</td>\n",
       "      <td>Male</td>\n",
       "      <td>No</td>\n",
       "      <td>Sun</td>\n",
       "      <td>Dinner</td>\n",
       "      <td>3</td>\n",
       "    </tr>\n",
       "    <tr>\n",
       "      <th>3</th>\n",
       "      <td>23.68</td>\n",
       "      <td>3.31</td>\n",
       "      <td>Male</td>\n",
       "      <td>No</td>\n",
       "      <td>Sun</td>\n",
       "      <td>Dinner</td>\n",
       "      <td>2</td>\n",
       "    </tr>\n",
       "    <tr>\n",
       "      <th>4</th>\n",
       "      <td>24.59</td>\n",
       "      <td>3.61</td>\n",
       "      <td>Female</td>\n",
       "      <td>No</td>\n",
       "      <td>Sun</td>\n",
       "      <td>Dinner</td>\n",
       "      <td>4</td>\n",
       "    </tr>\n",
       "  </tbody>\n",
       "</table>\n",
       "</div>"
      ],
      "text/plain": [
       "   total_bill   tip     sex smoker  day    time  size\n",
       "0       16.99  1.01  Female     No  Sun  Dinner     2\n",
       "1       10.34  1.66    Male     No  Sun  Dinner     3\n",
       "2       21.01  3.50    Male     No  Sun  Dinner     3\n",
       "3       23.68  3.31    Male     No  Sun  Dinner     2\n",
       "4       24.59  3.61  Female     No  Sun  Dinner     4"
      ]
     },
     "execution_count": 41,
     "metadata": {},
     "output_type": "execute_result"
    }
   ],
   "source": [
    "import matplotlib as plt\n",
    "import seaborn as sns \n",
    "\n",
    "# Load dataset\n",
    "df = sns.load_dataset(\"tips\")\n",
    "df.head()\n"
   ]
  },
  {
   "cell_type": "code",
   "execution_count": 56,
   "id": "f19301b7",
   "metadata": {},
   "outputs": [
    {
     "data": {
      "text/plain": [
       "<Axes: xlabel='total_bill', ylabel='Count'>"
      ]
     },
     "execution_count": 56,
     "metadata": {},
     "output_type": "execute_result"
    },
    {
     "data": {
      "image/png": "[encoded data removed]",
      "text/plain": [
       "<Figure size 640x480 with 1 Axes>"
      ]
     },
     "metadata": {},
     "output_type": "display_data"
    }
   ],
   "source": [
    "sns.histplot(df['total_bill'], bins=20, kde=True)"
   ]
  },
  {
   "cell_type": "code",
   "execution_count": 51,
   "id": "ed1db9c7",
   "metadata": {},
   "outputs": [
    {
     "data": {
      "text/plain": [
       "<Axes: xlabel='sex', ylabel='tip'>"
      ]
     },
     "execution_count": 51,
     "metadata": {},
     "output_type": "execute_result"
    },
    {
     "data": {
      "image/png": "[encoded data removed]",
      "text/plain": [
       "<Figure size 640x480 with 1 Axes>"
      ]
     },
     "metadata": {},
     "output_type": "display_data"
    }
   ],
   "source": [
    "sns.boxplot(x='sex', y='tip', data=df)"
   ]
  },
  {
   "cell_type": "code",
   "execution_count": 55,
   "id": "3982458b",
   "metadata": {},
   "outputs": [
    {
     "data": {
      "text/plain": [
       "<Axes: xlabel='total_bill', ylabel='tip'>"
      ]
     },
     "execution_count": 55,
     "metadata": {},
     "output_type": "execute_result"
    },
    {
     "data": {
      "image/png": "[encoded data removed]",
      "text/plain": [
       "<Figure size 640x480 with 1 Axes>"
      ]
     },
     "metadata": {},
     "output_type": "display_data"
    }
   ],
   "source": [
    "sns.scatterplot(x='total_bill', y='tip', data=df)"
   ]
  },
  {
   "cell_type": "code",
   "execution_count": 61,
   "id": "0a298d69",
   "metadata": {},
   "outputs": [
    {
     "data": {
      "text/plain": [
       "<seaborn.axisgrid.PairGrid at 0x31a5ddbd0>"
      ]
     },
     "execution_count": 61,
     "metadata": {},
     "output_type": "execute_result"
    },
    {
     "data": {
      "image/png": "[encoded data removed]",
      "text/plain": [
       "<Figure size 500x500 with 6 Axes>"
      ]
     },
     "metadata": {},
     "output_type": "display_data"
    }
   ],
   "source": [
    "sns.pairplot(df[['total_bill', 'tip']])\n"
   ]
  }
 ],
 "metadata": {
  "kernelspec": {
   "display_name": "Python 3",
   "language": "python",
   "name": "python3"
  },
  "language_info": {
   "codemirror_mode": {
    "name": "ipython",
    "version": 3
   },
   "file_extension": ".py",
   "mimetype": "text/x-python",
   "name": "python",
   "nbconvert_exporter": "python",
   "pygments_lexer": "ipython3",
   "version": "3.11.10"
  }
 },
 "nbformat": 4,
 "nbformat_minor": 5
}
